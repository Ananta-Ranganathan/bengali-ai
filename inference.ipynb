{
 "cells": [
  {
   "cell_type": "code",
   "execution_count": 1,
   "id": "3098ffa5",
   "metadata": {
    "execution": {
     "iopub.execute_input": "2023-08-05T06:16:03.162937Z",
     "iopub.status.busy": "2023-08-05T06:16:03.162443Z",
     "iopub.status.idle": "2023-08-05T06:16:28.860539Z",
     "shell.execute_reply": "2023-08-05T06:16:28.859415Z"
    },
    "papermill": {
     "duration": 25.712655,
     "end_time": "2023-08-05T06:16:28.863191",
     "exception": false,
     "start_time": "2023-08-05T06:16:03.150536",
     "status": "completed"
    },
    "tags": []
   },
   "outputs": [
    {
     "name": "stdout",
     "output_type": "stream",
     "text": [
      "Looking in links: /kaggle/input/pipstuff\r\n",
      "Processing /kaggle/input/pipstuff/pyctcdecode-0.5.0-py2.py3-none-any.whl\r\n",
      "Requirement already satisfied: numpy<2.0.0,>=1.15.0 in /opt/conda/lib/python3.10/site-packages (from pyctcdecode) (1.23.5)\r\n",
      "Processing /kaggle/input/pipstuff/pygtrie-2.5.0-py3-none-any.whl (from pyctcdecode)\r\n",
      "Processing /kaggle/input/pipstuff/hypothesis-6.82.0-py3-none-any.whl (from pyctcdecode)\r\n",
      "Requirement already satisfied: attrs>=19.2.0 in /opt/conda/lib/python3.10/site-packages (from hypothesis<7,>=6.14->pyctcdecode) (23.1.0)\r\n",
      "Requirement already satisfied: sortedcontainers<3.0.0,>=2.1.0 in /opt/conda/lib/python3.10/site-packages (from hypothesis<7,>=6.14->pyctcdecode) (2.4.0)\r\n",
      "Requirement already satisfied: exceptiongroup>=1.0.0 in /opt/conda/lib/python3.10/site-packages (from hypothesis<7,>=6.14->pyctcdecode) (1.1.1)\r\n",
      "Installing collected packages: pygtrie, hypothesis, pyctcdecode\r\n",
      "Successfully installed hypothesis-6.82.0 pyctcdecode-0.5.0 pygtrie-2.5.0\r\n",
      "Looking in links: /kaggle/input/pipstuff\r\n",
      "Processing /kaggle/input/pipstuff/bnunicodenormalizer-0.1.6-py3-none-any.whl\r\n",
      "Installing collected packages: bnunicodenormalizer\r\n",
      "Successfully installed bnunicodenormalizer-0.1.6\r\n"
     ]
    }
   ],
   "source": [
    "! pip install --no-index --find-links /kaggle/input/pipstuff pyctcdecode\n",
    "! pip install --no-index --find-links /kaggle/input/pipstuff bnunicodenormalizer"
   ]
  },
  {
   "cell_type": "code",
   "execution_count": 2,
   "id": "f5686421",
   "metadata": {
    "execution": {
     "iopub.execute_input": "2023-08-05T06:16:28.885278Z",
     "iopub.status.busy": "2023-08-05T06:16:28.884945Z",
     "iopub.status.idle": "2023-08-05T06:16:28.889336Z",
     "shell.execute_reply": "2023-08-05T06:16:28.888422Z"
    },
    "papermill": {
     "duration": 0.017863,
     "end_time": "2023-08-05T06:16:28.891530",
     "exception": false,
     "start_time": "2023-08-05T06:16:28.873667",
     "status": "completed"
    },
    "tags": []
   },
   "outputs": [],
   "source": [
    "# !tar xvfz /kaggle/input/yellowking-dlsprint-inference/python-packages2/jiwer.tgz\n",
    "# !tar xvfz /kaggle/input/yellowking-dlsprint-inference/jiwer/python-Levenshtein-0.12.2.tar.gz\n",
    "# !pip install --no-index --find-links /kaggle/input/yellowking-dlsprint-inference/jiwer/ python-Levenshtein\n",
    "# !pip install --no-index --find-links /kaggle/input/yellowking-dlsprint-inference/jiwer/ jiwer"
   ]
  },
  {
   "cell_type": "code",
   "execution_count": 3,
   "id": "fd95d07c",
   "metadata": {
    "_cell_guid": "b1076dfc-b9ad-4769-8c92-a6c4dae69d19",
    "_uuid": "8f2839f25d086af736a60e9eeb907d3b93b6e0e5",
    "execution": {
     "iopub.execute_input": "2023-08-05T06:16:28.914454Z",
     "iopub.status.busy": "2023-08-05T06:16:28.913930Z",
     "iopub.status.idle": "2023-08-05T06:16:47.377157Z",
     "shell.execute_reply": "2023-08-05T06:16:47.375600Z"
    },
    "papermill": {
     "duration": 18.47843,
     "end_time": "2023-08-05T06:16:47.379413",
     "exception": false,
     "start_time": "2023-08-05T06:16:28.900983",
     "status": "completed"
    },
    "tags": []
   },
   "outputs": [
    {
     "name": "stderr",
     "output_type": "stream",
     "text": [
      "/opt/conda/lib/python3.10/site-packages/scipy/__init__.py:146: UserWarning: A NumPy version >=1.16.5 and <1.23.0 is required for this version of SciPy (detected version 1.23.5\n",
      "  warnings.warn(f\"A NumPy version >={np_minversion} and <{np_maxversion}\"\n",
      "/opt/conda/lib/python3.10/site-packages/tensorflow_io/python/ops/__init__.py:98: UserWarning: unable to load libtensorflow_io_plugins.so: unable to open file: libtensorflow_io_plugins.so, from paths: ['/opt/conda/lib/python3.10/site-packages/tensorflow_io/python/ops/libtensorflow_io_plugins.so']\n",
      "caused by: ['/opt/conda/lib/python3.10/site-packages/tensorflow_io/python/ops/libtensorflow_io_plugins.so: undefined symbol: _ZN3tsl6StatusC1EN10tensorflow5error4CodeESt17basic_string_viewIcSt11char_traitsIcEENS_14SourceLocationE']\n",
      "  warnings.warn(f\"unable to load libtensorflow_io_plugins.so: {e}\")\n",
      "/opt/conda/lib/python3.10/site-packages/tensorflow_io/python/ops/__init__.py:104: UserWarning: file system plugins are not loaded: unable to open file: libtensorflow_io.so, from paths: ['/opt/conda/lib/python3.10/site-packages/tensorflow_io/python/ops/libtensorflow_io.so']\n",
      "caused by: ['/opt/conda/lib/python3.10/site-packages/tensorflow_io/python/ops/libtensorflow_io.so: undefined symbol: _ZTVN10tensorflow13GcsFileSystemE']\n",
      "  warnings.warn(f\"file system plugins are not loaded: {e}\")\n"
     ]
    },
    {
     "name": "stdout",
     "output_type": "stream",
     "text": [
      "cuda\n"
     ]
    }
   ],
   "source": [
    "import os\n",
    "import torch\n",
    "import transformers\n",
    "from transformers import AutoTokenizer, AutoModel, AutoFeatureExtractor, AutoProcessor, pipeline\n",
    "from glob import glob\n",
    "import librosa\n",
    "from torch.utils.data import DataLoader, Subset\n",
    "import bnunicodenormalizer\n",
    "from bnunicodenormalizer import Normalizer \n",
    "import pandas as pd\n",
    "# import jiwer\n",
    "\n",
    "device = torch.device('cuda' if torch.cuda.is_available() else 'cpu')\n",
    "print(device)"
   ]
  },
  {
   "cell_type": "code",
   "execution_count": 4,
   "id": "9301380b",
   "metadata": {
    "execution": {
     "iopub.execute_input": "2023-08-05T06:16:47.401472Z",
     "iopub.status.busy": "2023-08-05T06:16:47.400653Z",
     "iopub.status.idle": "2023-08-05T06:16:47.411572Z",
     "shell.execute_reply": "2023-08-05T06:16:47.410608Z"
    },
    "papermill": {
     "duration": 0.023848,
     "end_time": "2023-08-05T06:16:47.413579",
     "exception": false,
     "start_time": "2023-08-05T06:16:47.389731",
     "status": "completed"
    },
    "tags": []
   },
   "outputs": [
    {
     "name": "stdout",
     "output_type": "stream",
     "text": [
      "['/kaggle/input/bengaliai-speech/test_mp3s/a9395e01ad21.mp3', '/kaggle/input/bengaliai-speech/test_mp3s/0f3dac00655e.mp3', '/kaggle/input/bengaliai-speech/test_mp3s/bf36ea8b718d.mp3']\n"
     ]
    }
   ],
   "source": [
    "# CHANGE ACCORDINGLY\n",
    "BATCH_SIZE = 32\n",
    "TEST_DIRECTORY = '/kaggle/input/bengaliai-speech/test_mp3s'\n",
    "paths = glob(os.path.join(TEST_DIRECTORY,'*.mp3'))\n",
    "print(paths)"
   ]
  },
  {
   "cell_type": "code",
   "execution_count": 5,
   "id": "6861c675",
   "metadata": {
    "execution": {
     "iopub.execute_input": "2023-08-05T06:16:47.435114Z",
     "iopub.status.busy": "2023-08-05T06:16:47.434807Z",
     "iopub.status.idle": "2023-08-05T06:16:47.438718Z",
     "shell.execute_reply": "2023-08-05T06:16:47.437816Z"
    },
    "papermill": {
     "duration": 0.016623,
     "end_time": "2023-08-05T06:16:47.440888",
     "exception": false,
     "start_time": "2023-08-05T06:16:47.424265",
     "status": "completed"
    },
    "tags": []
   },
   "outputs": [],
   "source": [
    "def add_file_path(text):\n",
    "  text = \"/kaggle/input/bengaliai-speech/train_mp3s/\" + text + '.mp3'\n",
    "  return text"
   ]
  },
  {
   "cell_type": "code",
   "execution_count": 6,
   "id": "23a0f9ed",
   "metadata": {
    "execution": {
     "iopub.execute_input": "2023-08-05T06:16:47.461641Z",
     "iopub.status.busy": "2023-08-05T06:16:47.461360Z",
     "iopub.status.idle": "2023-08-05T06:16:52.600185Z",
     "shell.execute_reply": "2023-08-05T06:16:52.599112Z"
    },
    "papermill": {
     "duration": 5.151774,
     "end_time": "2023-08-05T06:16:52.602764",
     "exception": false,
     "start_time": "2023-08-05T06:16:47.450990",
     "status": "completed"
    },
    "tags": []
   },
   "outputs": [
    {
     "name": "stdout",
     "output_type": "stream",
     "text": [
      "                  id                                           sentence  \\\n",
      "0       000005f3362c                              ও বলেছে আপনার ঠিকানা!   \n",
      "1       00001dddd002                 কোন মহান রাষ্ট্রের নাগরিক হতে চাও?   \n",
      "2       00001e0bc131     আমি তোমার কষ্টটা বুঝছি, কিন্তু এটা সঠিক পথ না।   \n",
      "3       000024b3d810  নাচ শেষ হওয়ার পর সকলে শরীর ধুয়ে একসঙ্গে ভোজন...   \n",
      "4       000028220ab3                                হুমম, ওহ হেই, দেখো।   \n",
      "...              ...                                                ...   \n",
      "963631  ffffd07108b7                           আপনার সাথে কথা বলতে চাই।   \n",
      "963632  ffffde37678a  সুতরাং পরের দিন আর-একটা ছবি না লইয়া চিত্রকর ছা...   \n",
      "963633  ffffe1b5f095  সামাজিক কর্মকাণ্ডসমিতিতে গিয়ে দেখা যায়, শিল্পী...   \n",
      "963634  ffffec31636e  গুগল ম্যাপসের সাহায্যে খুঁজে পাওয়া যাবে কোন জা...   \n",
      "963635  fffff9f38566                      তোমরা আমাকে কী নাম ধরে ডাকবে?   \n",
      "\n",
      "                                                     file  \n",
      "0       /kaggle/input/bengaliai-speech/train_mp3s/0000...  \n",
      "1       /kaggle/input/bengaliai-speech/train_mp3s/0000...  \n",
      "2       /kaggle/input/bengaliai-speech/train_mp3s/0000...  \n",
      "3       /kaggle/input/bengaliai-speech/train_mp3s/0000...  \n",
      "4       /kaggle/input/bengaliai-speech/train_mp3s/0000...  \n",
      "...                                                   ...  \n",
      "963631  /kaggle/input/bengaliai-speech/train_mp3s/ffff...  \n",
      "963632  /kaggle/input/bengaliai-speech/train_mp3s/ffff...  \n",
      "963633  /kaggle/input/bengaliai-speech/train_mp3s/ffff...  \n",
      "963634  /kaggle/input/bengaliai-speech/train_mp3s/ffff...  \n",
      "963635  /kaggle/input/bengaliai-speech/train_mp3s/ffff...  \n",
      "\n",
      "[963636 rows x 3 columns]\n"
     ]
    }
   ],
   "source": [
    "df = pd.read_csv('/kaggle/input/bengaliai-speech/train.csv')\n",
    "df = pd.DataFrame(df, columns=['id', 'sentence'])\n",
    "df['file'] = df['id'].map(lambda x: add_file_path(x))\n",
    "print(df)"
   ]
  },
  {
   "cell_type": "code",
   "execution_count": 7,
   "id": "e7b75e2a",
   "metadata": {
    "execution": {
     "iopub.execute_input": "2023-08-05T06:16:52.626660Z",
     "iopub.status.busy": "2023-08-05T06:16:52.626357Z",
     "iopub.status.idle": "2023-08-05T06:16:53.854777Z",
     "shell.execute_reply": "2023-08-05T06:16:53.853772Z"
    },
    "papermill": {
     "duration": 1.24208,
     "end_time": "2023-08-05T06:16:53.856972",
     "exception": false,
     "start_time": "2023-08-05T06:16:52.614892",
     "status": "completed"
    },
    "tags": []
   },
   "outputs": [
    {
     "data": {
      "text/plain": [
       "Dataset({\n",
       "    features: ['id', 'sentence', 'file'],\n",
       "    num_rows: 963636\n",
       "})"
      ]
     },
     "execution_count": 7,
     "metadata": {},
     "output_type": "execute_result"
    }
   ],
   "source": [
    "from datasets import Dataset, load_metric\n",
    "\n",
    "train_data = Dataset.from_pandas(df)\n",
    "train_data"
   ]
  },
  {
   "cell_type": "code",
   "execution_count": 8,
   "id": "c367115b",
   "metadata": {
    "execution": {
     "iopub.execute_input": "2023-08-05T06:16:53.879754Z",
     "iopub.status.busy": "2023-08-05T06:16:53.879180Z",
     "iopub.status.idle": "2023-08-05T06:16:53.883749Z",
     "shell.execute_reply": "2023-08-05T06:16:53.882748Z"
    },
    "papermill": {
     "duration": 0.018328,
     "end_time": "2023-08-05T06:16:53.886067",
     "exception": false,
     "start_time": "2023-08-05T06:16:53.867739",
     "status": "completed"
    },
    "tags": []
   },
   "outputs": [],
   "source": [
    "# def extract_all_chars(batch):\n",
    "#   all_text = \" \".join(batch[\"sentence\"])\n",
    "#   vocab = list(set(all_text))\n",
    "#   return {\"vocab\": [vocab], \"all_text\": [all_text]}\n",
    "\n",
    "# vocab_train = train_data.map(extract_all_chars, batched=True, batch_size=-1, keep_in_memory=True, remove_columns=train_data.column_names)"
   ]
  },
  {
   "cell_type": "code",
   "execution_count": 9,
   "id": "ee75e974",
   "metadata": {
    "execution": {
     "iopub.execute_input": "2023-08-05T06:16:53.908375Z",
     "iopub.status.busy": "2023-08-05T06:16:53.908098Z",
     "iopub.status.idle": "2023-08-05T06:16:53.912207Z",
     "shell.execute_reply": "2023-08-05T06:16:53.911157Z"
    },
    "papermill": {
     "duration": 0.018201,
     "end_time": "2023-08-05T06:16:53.914709",
     "exception": false,
     "start_time": "2023-08-05T06:16:53.896508",
     "status": "completed"
    },
    "tags": []
   },
   "outputs": [],
   "source": [
    "# vocab_train"
   ]
  },
  {
   "cell_type": "code",
   "execution_count": 10,
   "id": "7ab0ae53",
   "metadata": {
    "execution": {
     "iopub.execute_input": "2023-08-05T06:16:53.936755Z",
     "iopub.status.busy": "2023-08-05T06:16:53.936481Z",
     "iopub.status.idle": "2023-08-05T06:16:53.941454Z",
     "shell.execute_reply": "2023-08-05T06:16:53.940544Z"
    },
    "papermill": {
     "duration": 0.018592,
     "end_time": "2023-08-05T06:16:53.943810",
     "exception": false,
     "start_time": "2023-08-05T06:16:53.925218",
     "status": "completed"
    },
    "tags": []
   },
   "outputs": [],
   "source": [
    "# vocab_list = list(set(vocab_train[\"vocab\"][0]))\n",
    "\n",
    "# vocab_dict = {v: k for k, v in enumerate(vocab_list)}\n",
    "# print(vocab_dict)"
   ]
  },
  {
   "cell_type": "code",
   "execution_count": 11,
   "id": "670f9d4c",
   "metadata": {
    "execution": {
     "iopub.execute_input": "2023-08-05T06:16:53.967469Z",
     "iopub.status.busy": "2023-08-05T06:16:53.967201Z",
     "iopub.status.idle": "2023-08-05T06:16:53.971365Z",
     "shell.execute_reply": "2023-08-05T06:16:53.970422Z"
    },
    "papermill": {
     "duration": 0.018669,
     "end_time": "2023-08-05T06:16:53.973567",
     "exception": false,
     "start_time": "2023-08-05T06:16:53.954898",
     "status": "completed"
    },
    "tags": []
   },
   "outputs": [],
   "source": [
    "# vocab_dict[\"|\"] = vocab_dict[\" \"]\n",
    "# del vocab_dict[\" \"]\n",
    "# vocab_dict[\"[UNK]\"] = len(vocab_dict)\n",
    "# vocab_dict[\"[PAD]\"] = len(vocab_dict)\n",
    "# print(len(vocab_dict))"
   ]
  },
  {
   "cell_type": "code",
   "execution_count": 12,
   "id": "40ba37ba",
   "metadata": {
    "execution": {
     "iopub.execute_input": "2023-08-05T06:16:53.997930Z",
     "iopub.status.busy": "2023-08-05T06:16:53.997059Z",
     "iopub.status.idle": "2023-08-05T06:16:54.001323Z",
     "shell.execute_reply": "2023-08-05T06:16:54.000472Z"
    },
    "papermill": {
     "duration": 0.018709,
     "end_time": "2023-08-05T06:16:54.003616",
     "exception": false,
     "start_time": "2023-08-05T06:16:53.984907",
     "status": "completed"
    },
    "tags": []
   },
   "outputs": [],
   "source": [
    "# import json\n",
    "# with open('/kaggle/working/vocab.json', 'w') as vocab_file:\n",
    "#     json.dump(vocab_dict, vocab_file)"
   ]
  },
  {
   "cell_type": "code",
   "execution_count": 13,
   "id": "08302f1d",
   "metadata": {
    "execution": {
     "iopub.execute_input": "2023-08-05T06:16:54.026333Z",
     "iopub.status.busy": "2023-08-05T06:16:54.025615Z",
     "iopub.status.idle": "2023-08-05T06:16:54.029822Z",
     "shell.execute_reply": "2023-08-05T06:16:54.028969Z"
    },
    "papermill": {
     "duration": 0.017475,
     "end_time": "2023-08-05T06:16:54.031639",
     "exception": false,
     "start_time": "2023-08-05T06:16:54.014164",
     "status": "completed"
    },
    "tags": []
   },
   "outputs": [],
   "source": [
    "# from transformers import Wav2Vec2CTCTokenizer\n",
    "\n",
    "# tokenizer = Wav2Vec2CTCTokenizer(\"/kaggle/working/vocab.json\", unk_token=\"[UNK]\", pad_token=\"[PAD]\", word_delimiter_token=\"|\")"
   ]
  },
  {
   "cell_type": "code",
   "execution_count": 14,
   "id": "607e27d6",
   "metadata": {
    "execution": {
     "iopub.execute_input": "2023-08-05T06:16:54.058071Z",
     "iopub.status.busy": "2023-08-05T06:16:54.057788Z",
     "iopub.status.idle": "2023-08-05T06:16:54.061543Z",
     "shell.execute_reply": "2023-08-05T06:16:54.060596Z"
    },
    "papermill": {
     "duration": 0.020549,
     "end_time": "2023-08-05T06:16:54.063732",
     "exception": false,
     "start_time": "2023-08-05T06:16:54.043183",
     "status": "completed"
    },
    "tags": []
   },
   "outputs": [],
   "source": [
    "# from transformers import Wav2Vec2FeatureExtractor\n",
    "\n",
    "# feature_extractor = Wav2Vec2FeatureExtractor(feature_size=1, sampling_rate=16000, padding_value=0.0, do_normalize=True, return_attention_mask=True)"
   ]
  },
  {
   "cell_type": "code",
   "execution_count": 15,
   "id": "fce8607a",
   "metadata": {
    "execution": {
     "iopub.execute_input": "2023-08-05T06:16:54.085215Z",
     "iopub.status.busy": "2023-08-05T06:16:54.084686Z",
     "iopub.status.idle": "2023-08-05T06:16:54.088843Z",
     "shell.execute_reply": "2023-08-05T06:16:54.088043Z"
    },
    "papermill": {
     "duration": 0.017309,
     "end_time": "2023-08-05T06:16:54.090957",
     "exception": false,
     "start_time": "2023-08-05T06:16:54.073648",
     "status": "completed"
    },
    "tags": []
   },
   "outputs": [],
   "source": [
    "# from transformers import Wav2Vec2Processor\n",
    "\n",
    "# processor = Wav2Vec2Processor(feature_extractor=feature_extractor, tokenizer=tokenizer)"
   ]
  },
  {
   "cell_type": "code",
   "execution_count": 16,
   "id": "ab5e59d3",
   "metadata": {
    "execution": {
     "iopub.execute_input": "2023-08-05T06:16:54.113274Z",
     "iopub.status.busy": "2023-08-05T06:16:54.112559Z",
     "iopub.status.idle": "2023-08-05T06:16:54.116701Z",
     "shell.execute_reply": "2023-08-05T06:16:54.115895Z"
    },
    "papermill": {
     "duration": 0.017181,
     "end_time": "2023-08-05T06:16:54.118526",
     "exception": false,
     "start_time": "2023-08-05T06:16:54.101345",
     "status": "completed"
    },
    "tags": []
   },
   "outputs": [],
   "source": [
    "# processor.save_pretrained(\"/kaggle/working/\")"
   ]
  },
  {
   "cell_type": "code",
   "execution_count": 17,
   "id": "f66b3f76",
   "metadata": {
    "execution": {
     "iopub.execute_input": "2023-08-05T06:16:54.141790Z",
     "iopub.status.busy": "2023-08-05T06:16:54.140864Z",
     "iopub.status.idle": "2023-08-05T06:16:54.146420Z",
     "shell.execute_reply": "2023-08-05T06:16:54.145513Z"
    },
    "papermill": {
     "duration": 0.019825,
     "end_time": "2023-08-05T06:16:54.148570",
     "exception": false,
     "start_time": "2023-08-05T06:16:54.128745",
     "status": "completed"
    },
    "tags": []
   },
   "outputs": [],
   "source": [
    "# class MyASRDataset(torch.utils.data.Dataset):\n",
    "#     def __init__(self, data, tokenizer, max_audio_length):\n",
    "#         self.dataset = data\n",
    "#         self.tokenizer = tokenizer\n",
    "#         self.max_audio_length = max_audio_length\n",
    "\n",
    "#     def __len__(self):\n",
    "#         return len(self.dataset)\n",
    "\n",
    "#     def __getitem__(self, idx):\n",
    "#         item = self.dataset[idx]\n",
    "#         file_path = item['file']\n",
    "#         waveform, sample_rate = librosa.load(file_path, sr=16000)\n",
    "\n",
    "#         transcription = item['sentence']\n",
    "#         tokenized_inputs = self.tokenizer(transcription, padding='max_length', truncation=True, max_length=self.max_audio_length, return_tensors='pt')\n",
    "\n",
    "#         processed_item = {\n",
    "#             'input_ids': tokenized_inputs['input_ids'].squeeze(),\n",
    "#             'attention_mask': tokenized_inputs['attention_mask'].squeeze(),\n",
    "#             'labels': tokenized_inputs['input_ids'].squeeze(),  # Use 'input_ids' as labels for non-masked language modeling\n",
    "#             'file': waveform\n",
    "#         }\n",
    "#         return processed_item\n",
    "\n",
    "\n",
    "# max_audio_length = 10000\n",
    "# asr_dataset = MyASRDataset(train_data, tokenizer, max_audio_length)"
   ]
  },
  {
   "cell_type": "code",
   "execution_count": 18,
   "id": "c3f6f1e0",
   "metadata": {
    "execution": {
     "iopub.execute_input": "2023-08-05T06:16:54.170647Z",
     "iopub.status.busy": "2023-08-05T06:16:54.169880Z",
     "iopub.status.idle": "2023-08-05T06:16:54.174195Z",
     "shell.execute_reply": "2023-08-05T06:16:54.173363Z"
    },
    "papermill": {
     "duration": 0.017555,
     "end_time": "2023-08-05T06:16:54.176254",
     "exception": false,
     "start_time": "2023-08-05T06:16:54.158699",
     "status": "completed"
    },
    "tags": []
   },
   "outputs": [],
   "source": [
    "# wer_metric = load_metric('/kaggle/input/metrics/wer.py')"
   ]
  },
  {
   "cell_type": "code",
   "execution_count": 19,
   "id": "09dcb556",
   "metadata": {
    "execution": {
     "iopub.execute_input": "2023-08-05T06:16:54.198840Z",
     "iopub.status.busy": "2023-08-05T06:16:54.198108Z",
     "iopub.status.idle": "2023-08-05T06:16:54.203289Z",
     "shell.execute_reply": "2023-08-05T06:16:54.202341Z"
    },
    "papermill": {
     "duration": 0.01856,
     "end_time": "2023-08-05T06:16:54.205368",
     "exception": false,
     "start_time": "2023-08-05T06:16:54.186808",
     "status": "completed"
    },
    "tags": []
   },
   "outputs": [],
   "source": [
    "# class MyDataCollator:\n",
    "#     def __call__(self, features):\n",
    "#         # Merge lists of input_ids, attention_mask, and files\n",
    "#         input_ids = [feature['input_ids'] for feature in features]\n",
    "#         attention_mask = [feature['attention_mask'] for feature in features]\n",
    "#         files = [feature['file'] for feature in features]\n",
    "        \n",
    "#         # Convert lists to tensors\n",
    "#         input_ids = torch.stack(input_ids)\n",
    "#         attention_mask = torch.stack(attention_mask)\n",
    "\n",
    "#         return {\n",
    "#             'input_ids': input_ids,\n",
    "#             'attention_mask': attention_mask,\n",
    "#             'file': files\n",
    "#         }\n",
    "\n",
    "\n",
    "# data_collator = MyDataCollator()"
   ]
  },
  {
   "cell_type": "code",
   "execution_count": 20,
   "id": "92f8c9bf",
   "metadata": {
    "execution": {
     "iopub.execute_input": "2023-08-05T06:16:54.228108Z",
     "iopub.status.busy": "2023-08-05T06:16:54.227807Z",
     "iopub.status.idle": "2023-08-05T06:17:09.190123Z",
     "shell.execute_reply": "2023-08-05T06:17:09.189212Z"
    },
    "papermill": {
     "duration": 14.976126,
     "end_time": "2023-08-05T06:17:09.192291",
     "exception": false,
     "start_time": "2023-08-05T06:16:54.216165",
     "status": "completed"
    },
    "tags": []
   },
   "outputs": [
    {
     "name": "stderr",
     "output_type": "stream",
     "text": [
      "/opt/conda/lib/python3.10/site-packages/transformers/configuration_utils.py:380: UserWarning: Passing `gradient_checkpointing` to a config initialization is deprecated and will be removed in v5 Transformers. Using `model.gradient_checkpointing_enable()` instead, or if you are using the `Trainer` API, pass `gradient_checkpointing=True` in your `TrainingArguments`.\n",
      "  warnings.warn(\n",
      "Some weights of the model checkpoint at /kaggle/input/bengali-model/bengali/ were not used when initializing Wav2Vec2Model: ['lm_head.weight', 'lm_head.bias']\n",
      "- This IS expected if you are initializing Wav2Vec2Model from the checkpoint of a model trained on another task or with another architecture (e.g. initializing a BertForSequenceClassification model from a BertForPreTraining model).\n",
      "- This IS NOT expected if you are initializing Wav2Vec2Model from the checkpoint of a model that you expect to be exactly identical (initializing a BertForSequenceClassification model from a BertForSequenceClassification model).\n",
      "Special tokens have been added in the vocabulary, make sure the associated word embeddings are fine-tuned or trained.\n",
      "Special tokens have been added in the vocabulary, make sure the associated word embeddings are fine-tuned or trained.\n"
     ]
    }
   ],
   "source": [
    "#INFERENCE\n",
    "class CFG:\n",
    "    model = AutoModel.from_pretrained('/kaggle/input/bengali-model/bengali/')\n",
    "    tokenizer = AutoTokenizer.from_pretrained('/kaggle/input/bengali-model/bengali/')\n",
    "    feature_extractor = AutoFeatureExtractor.from_pretrained('/kaggle/input/bengali-model/bengali/')\n",
    "    processor = AutoProcessor.from_pretrained('/kaggle/input/bengali-model/bengali/')"
   ]
  },
  {
   "cell_type": "code",
   "execution_count": 21,
   "id": "19912937",
   "metadata": {
    "execution": {
     "iopub.execute_input": "2023-08-05T06:17:09.215617Z",
     "iopub.status.busy": "2023-08-05T06:17:09.214550Z",
     "iopub.status.idle": "2023-08-05T06:17:17.818102Z",
     "shell.execute_reply": "2023-08-05T06:17:17.817080Z"
    },
    "papermill": {
     "duration": 8.617841,
     "end_time": "2023-08-05T06:17:17.820814",
     "exception": false,
     "start_time": "2023-08-05T06:17:09.202973",
     "status": "completed"
    },
    "tags": []
   },
   "outputs": [],
   "source": [
    "my_asrLM = pipeline(\"automatic-speech-recognition\", model='/kaggle/input/bengali-model/bengali/', feature_extractor=CFG.processor.feature_extractor, tokenizer=CFG.processor.tokenizer, device=0)"
   ]
  },
  {
   "cell_type": "code",
   "execution_count": 22,
   "id": "a15d6fc2",
   "metadata": {
    "execution": {
     "iopub.execute_input": "2023-08-05T06:17:17.843898Z",
     "iopub.status.busy": "2023-08-05T06:17:17.843567Z",
     "iopub.status.idle": "2023-08-05T06:17:27.740653Z",
     "shell.execute_reply": "2023-08-05T06:17:27.739476Z"
    },
    "papermill": {
     "duration": 9.912071,
     "end_time": "2023-08-05T06:17:27.743517",
     "exception": false,
     "start_time": "2023-08-05T06:17:17.831446",
     "status": "completed"
    },
    "tags": []
   },
   "outputs": [],
   "source": [
    "speech, sr = librosa.load('/kaggle/input/bengaliai-speech/test_mp3s/0f3dac00655e.mp3', sr=CFG.feature_extractor.sampling_rate)"
   ]
  },
  {
   "cell_type": "code",
   "execution_count": 23,
   "id": "7e9f3aa8",
   "metadata": {
    "execution": {
     "iopub.execute_input": "2023-08-05T06:17:27.771453Z",
     "iopub.status.busy": "2023-08-05T06:17:27.769106Z",
     "iopub.status.idle": "2023-08-05T06:17:33.141833Z",
     "shell.execute_reply": "2023-08-05T06:17:33.140797Z"
    },
    "papermill": {
     "duration": 5.38828,
     "end_time": "2023-08-05T06:17:33.144077",
     "exception": false,
     "start_time": "2023-08-05T06:17:27.755797",
     "status": "completed"
    },
    "tags": []
   },
   "outputs": [
    {
     "data": {
      "text/plain": [
       "[{'text': '৮াথান খমললাবুরাআখা াছাা'}, {'text': '৮াথান খমললাবুরাআখা াছাা'}]"
      ]
     },
     "execution_count": 23,
     "metadata": {},
     "output_type": "execute_result"
    }
   ],
   "source": [
    "my_asrLM([speech]*2, chunk_length_s=112, stride_length_s=None)"
   ]
  },
  {
   "cell_type": "code",
   "execution_count": 24,
   "id": "7e4bada1",
   "metadata": {
    "execution": {
     "iopub.execute_input": "2023-08-05T06:17:33.167036Z",
     "iopub.status.busy": "2023-08-05T06:17:33.166470Z",
     "iopub.status.idle": "2023-08-05T06:17:33.173773Z",
     "shell.execute_reply": "2023-08-05T06:17:33.172835Z"
    },
    "papermill": {
     "duration": 0.02101,
     "end_time": "2023-08-05T06:17:33.175791",
     "exception": false,
     "start_time": "2023-08-05T06:17:33.154781",
     "status": "completed"
    },
    "tags": []
   },
   "outputs": [
    {
     "data": {
      "text/plain": [
       "<transformers.pipelines.automatic_speech_recognition.AutomaticSpeechRecognitionPipeline at 0x7a2e68593f70>"
      ]
     },
     "execution_count": 24,
     "metadata": {},
     "output_type": "execute_result"
    }
   ],
   "source": [
    "my_asrLM"
   ]
  },
  {
   "cell_type": "code",
   "execution_count": 25,
   "id": "0f87ac18",
   "metadata": {
    "execution": {
     "iopub.execute_input": "2023-08-05T06:17:33.198955Z",
     "iopub.status.busy": "2023-08-05T06:17:33.198084Z",
     "iopub.status.idle": "2023-08-05T06:17:33.204116Z",
     "shell.execute_reply": "2023-08-05T06:17:33.203268Z"
    },
    "papermill": {
     "duration": 0.019741,
     "end_time": "2023-08-05T06:17:33.206063",
     "exception": false,
     "start_time": "2023-08-05T06:17:33.186322",
     "status": "completed"
    },
    "tags": []
   },
   "outputs": [],
   "source": [
    "class AudioDataset():\n",
    "    def __init__(self, paths):\n",
    "        self.paths = paths\n",
    "    def __len__(self):\n",
    "        return len(self.paths)\n",
    "    def __getitem__(self,idx):\n",
    "        speech, sr = librosa.load(self.paths[idx], sr=CFG.feature_extractor.sampling_rate) \n",
    "#         print(speech.shape)\n",
    "        return speech"
   ]
  },
  {
   "cell_type": "code",
   "execution_count": 26,
   "id": "90f052ab",
   "metadata": {
    "execution": {
     "iopub.execute_input": "2023-08-05T06:17:33.229632Z",
     "iopub.status.busy": "2023-08-05T06:17:33.228040Z",
     "iopub.status.idle": "2023-08-05T06:17:33.251708Z",
     "shell.execute_reply": "2023-08-05T06:17:33.250635Z"
    },
    "papermill": {
     "duration": 0.037177,
     "end_time": "2023-08-05T06:17:33.253982",
     "exception": false,
     "start_time": "2023-08-05T06:17:33.216805",
     "status": "completed"
    },
    "tags": []
   },
   "outputs": [
    {
     "data": {
      "text/plain": [
       "array([-1.7763568e-14,  4.2632564e-14,  2.2737368e-13, ...,\n",
       "       -6.2642025e-06,  2.5706822e-07, -5.0473864e-06], dtype=float32)"
      ]
     },
     "execution_count": 26,
     "metadata": {},
     "output_type": "execute_result"
    }
   ],
   "source": [
    "dataset = AudioDataset(paths)\n",
    "dataset[0]"
   ]
  },
  {
   "cell_type": "code",
   "execution_count": 27,
   "id": "e901ac36",
   "metadata": {
    "execution": {
     "iopub.execute_input": "2023-08-05T06:17:33.278069Z",
     "iopub.status.busy": "2023-08-05T06:17:33.277254Z",
     "iopub.status.idle": "2023-08-05T06:17:33.283757Z",
     "shell.execute_reply": "2023-08-05T06:17:33.282902Z"
    },
    "papermill": {
     "duration": 0.020146,
     "end_time": "2023-08-05T06:17:33.285686",
     "exception": false,
     "start_time": "2023-08-05T06:17:33.265540",
     "status": "completed"
    },
    "tags": []
   },
   "outputs": [],
   "source": [
    "def collate_fn_padd(batch):\n",
    "    '''\n",
    "    Padds batch of variable length\n",
    "\n",
    "    note: it converts things ToTensor manually here since the ToTensor transform\n",
    "    assume it takes in images rather than arbitrary tensors.\n",
    "    '''\n",
    "    ## get sequence lengths\n",
    "    lengths = torch.tensor([ t.shape[0] for t in batch ])\n",
    "    ## padd\n",
    "    batch = [ torch.Tensor(t) for t in batch ]\n",
    "    batch = torch.nn.utils.rnn.pad_sequence(batch)\n",
    "    ## compute mask\n",
    "    mask = (batch != 0)\n",
    "    return batch, lengths, mask\n",
    "\n"
   ]
  },
  {
   "cell_type": "code",
   "execution_count": 28,
   "id": "c78eb12a",
   "metadata": {
    "execution": {
     "iopub.execute_input": "2023-08-05T06:17:33.309973Z",
     "iopub.status.busy": "2023-08-05T06:17:33.309114Z",
     "iopub.status.idle": "2023-08-05T06:17:33.314212Z",
     "shell.execute_reply": "2023-08-05T06:17:33.313366Z"
    },
    "papermill": {
     "duration": 0.019431,
     "end_time": "2023-08-05T06:17:33.316136",
     "exception": false,
     "start_time": "2023-08-05T06:17:33.296705",
     "status": "completed"
    },
    "tags": []
   },
   "outputs": [],
   "source": [
    "dataloader = DataLoader(dataset, batch_size=32, shuffle=False, num_workers=2, collate_fn=collate_fn_padd)"
   ]
  },
  {
   "cell_type": "code",
   "execution_count": 29,
   "id": "ad8d347b",
   "metadata": {
    "execution": {
     "iopub.execute_input": "2023-08-05T06:17:33.338983Z",
     "iopub.status.busy": "2023-08-05T06:17:33.338180Z",
     "iopub.status.idle": "2023-08-05T06:17:33.934490Z",
     "shell.execute_reply": "2023-08-05T06:17:33.933149Z"
    },
    "papermill": {
     "duration": 0.610624,
     "end_time": "2023-08-05T06:17:33.937215",
     "exception": false,
     "start_time": "2023-08-05T06:17:33.326591",
     "status": "completed"
    },
    "tags": []
   },
   "outputs": [],
   "source": [
    "preds_all = []\n",
    "for batch, lengths, mask in dataloader:\n",
    "    preds = my_asrLM(list(batch.numpy().transpose()))\n",
    "    preds_all+=preds"
   ]
  },
  {
   "cell_type": "code",
   "execution_count": 30,
   "id": "bc99ae88",
   "metadata": {
    "execution": {
     "iopub.execute_input": "2023-08-05T06:17:33.962809Z",
     "iopub.status.busy": "2023-08-05T06:17:33.961819Z",
     "iopub.status.idle": "2023-08-05T06:17:33.969260Z",
     "shell.execute_reply": "2023-08-05T06:17:33.968360Z"
    },
    "papermill": {
     "duration": 0.022059,
     "end_time": "2023-08-05T06:17:33.971320",
     "exception": false,
     "start_time": "2023-08-05T06:17:33.949261",
     "status": "completed"
    },
    "tags": []
   },
   "outputs": [],
   "source": [
    "bnorm = Normalizer()\n",
    "def normalize(sen):\n",
    "    _words = [bnorm(word)['normalized']  for word in sen.split()]\n",
    "    return \" \".join([word for word in _words if word is not None])\n",
    "\n",
    "def dari(sentence):\n",
    "    try:\n",
    "        if sentence[-1]!=\"।\":\n",
    "            sentence+=\"।\"\n",
    "    except:\n",
    "        print(sentence)\n",
    "    return sentence\n",
    "\n"
   ]
  },
  {
   "cell_type": "code",
   "execution_count": 31,
   "id": "0b16326d",
   "metadata": {
    "execution": {
     "iopub.execute_input": "2023-08-05T06:17:33.995676Z",
     "iopub.status.busy": "2023-08-05T06:17:33.994255Z",
     "iopub.status.idle": "2023-08-05T06:17:34.355074Z",
     "shell.execute_reply": "2023-08-05T06:17:34.354061Z"
    },
    "papermill": {
     "duration": 0.375128,
     "end_time": "2023-08-05T06:17:34.357602",
     "exception": false,
     "start_time": "2023-08-05T06:17:33.982474",
     "status": "completed"
    },
    "tags": []
   },
   "outputs": [],
   "source": [
    "df= pd.DataFrame(\n",
    "    {\n",
    "        \"id\":[p.split(os.sep)[-1].replace('.mp3','') for p in paths],\n",
    "        \"sentence\":[p['text']for p in preds_all]\n",
    "    }\n",
    ")\n",
    "df.sentence= df.sentence.apply(lambda x:normalize(x))\n",
    "df.sentence= df.sentence.apply(lambda x:dari(x))"
   ]
  },
  {
   "cell_type": "code",
   "execution_count": 32,
   "id": "752ac6bc",
   "metadata": {
    "execution": {
     "iopub.execute_input": "2023-08-05T06:17:34.382467Z",
     "iopub.status.busy": "2023-08-05T06:17:34.382152Z",
     "iopub.status.idle": "2023-08-05T06:17:34.395498Z",
     "shell.execute_reply": "2023-08-05T06:17:34.394537Z"
    },
    "papermill": {
     "duration": 0.027946,
     "end_time": "2023-08-05T06:17:34.397773",
     "exception": false,
     "start_time": "2023-08-05T06:17:34.369827",
     "status": "completed"
    },
    "tags": []
   },
   "outputs": [
    {
     "data": {
      "text/html": [
       "<div>\n",
       "<style scoped>\n",
       "    .dataframe tbody tr th:only-of-type {\n",
       "        vertical-align: middle;\n",
       "    }\n",
       "\n",
       "    .dataframe tbody tr th {\n",
       "        vertical-align: top;\n",
       "    }\n",
       "\n",
       "    .dataframe thead th {\n",
       "        text-align: right;\n",
       "    }\n",
       "</style>\n",
       "<table border=\"1\" class=\"dataframe\">\n",
       "  <thead>\n",
       "    <tr style=\"text-align: right;\">\n",
       "      <th></th>\n",
       "      <th>id</th>\n",
       "      <th>sentence</th>\n",
       "    </tr>\n",
       "  </thead>\n",
       "  <tbody>\n",
       "    <tr>\n",
       "      <th>0</th>\n",
       "      <td>a9395e01ad21</td>\n",
       "      <td>ত্রেই হই ভাকক্যেইবিক রইহি হতুক যের উর তুহাকর ত...</td>\n",
       "    </tr>\n",
       "    <tr>\n",
       "      <th>1</th>\n",
       "      <td>0f3dac00655e</td>\n",
       "      <td>আথান খলুলা লবুরাআথা ছাখা।</td>\n",
       "    </tr>\n",
       "    <tr>\n",
       "      <th>2</th>\n",
       "      <td>bf36ea8b718d</td>\n",
       "      <td>হারার যেইগিম্মা ফমুষো না থেকথার্ষএ হনা মারুভভ্...</td>\n",
       "    </tr>\n",
       "  </tbody>\n",
       "</table>\n",
       "</div>"
      ],
      "text/plain": [
       "             id                                           sentence\n",
       "0  a9395e01ad21  ত্রেই হই ভাকক্যেইবিক রইহি হতুক যের উর তুহাকর ত...\n",
       "1  0f3dac00655e                          আথান খলুলা লবুরাআথা ছাখা।\n",
       "2  bf36ea8b718d  হারার যেইগিম্মা ফমুষো না থেকথার্ষএ হনা মারুভভ্..."
      ]
     },
     "execution_count": 32,
     "metadata": {},
     "output_type": "execute_result"
    }
   ],
   "source": [
    "df"
   ]
  },
  {
   "cell_type": "code",
   "execution_count": 33,
   "id": "4e225548",
   "metadata": {
    "execution": {
     "iopub.execute_input": "2023-08-05T06:17:34.424339Z",
     "iopub.status.busy": "2023-08-05T06:17:34.422800Z",
     "iopub.status.idle": "2023-08-05T06:17:34.431706Z",
     "shell.execute_reply": "2023-08-05T06:17:34.430805Z"
    },
    "papermill": {
     "duration": 0.023606,
     "end_time": "2023-08-05T06:17:34.433800",
     "exception": false,
     "start_time": "2023-08-05T06:17:34.410194",
     "status": "completed"
    },
    "tags": []
   },
   "outputs": [],
   "source": [
    "df.to_csv(\"submission.csv\", index=False)"
   ]
  }
 ],
 "metadata": {
  "kernelspec": {
   "display_name": "Python 3",
   "language": "python",
   "name": "python3"
  },
  "language_info": {
   "codemirror_mode": {
    "name": "ipython",
    "version": 3
   },
   "file_extension": ".py",
   "mimetype": "text/x-python",
   "name": "python",
   "nbconvert_exporter": "python",
   "pygments_lexer": "ipython3",
   "version": "3.10.12"
  },
  "papermill": {
   "default_parameters": {},
   "duration": 105.925585,
   "end_time": "2023-08-05T06:17:38.447654",
   "environment_variables": {},
   "exception": null,
   "input_path": "__notebook__.ipynb",
   "output_path": "__notebook__.ipynb",
   "parameters": {},
   "start_time": "2023-08-05T06:15:52.522069",
   "version": "2.4.0"
  }
 },
 "nbformat": 4,
 "nbformat_minor": 5
}
