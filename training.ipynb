{
 "cells": [
  {
   "cell_type": "code",
   "execution_count": 1,
   "id": "700f6cc9",
   "metadata": {
    "execution": {
     "iopub.execute_input": "2023-08-05T22:45:21.125897Z",
     "iopub.status.busy": "2023-08-05T22:45:21.124705Z",
     "iopub.status.idle": "2023-08-05T22:45:25.880477Z",
     "shell.execute_reply": "2023-08-05T22:45:25.879387Z"
    },
    "papermill": {
     "duration": 4.764179,
     "end_time": "2023-08-05T22:45:25.883396",
     "exception": false,
     "start_time": "2023-08-05T22:45:21.119217",
     "status": "completed"
    },
    "tags": []
   },
   "outputs": [],
   "source": [
    "import torch\n",
    "import numpy as np\n",
    "import pandas as pd\n",
    "import librosa\n",
    "from datasets import Dataset, Audio\n",
    "from torch.utils.data import DataLoader"
   ]
  },
  {
   "cell_type": "code",
   "execution_count": 2,
   "id": "d2dd5276",
   "metadata": {
    "execution": {
     "iopub.execute_input": "2023-08-05T22:45:25.893260Z",
     "iopub.status.busy": "2023-08-05T22:45:25.891958Z",
     "iopub.status.idle": "2023-08-05T22:45:26.004260Z",
     "shell.execute_reply": "2023-08-05T22:45:26.002612Z"
    },
    "papermill": {
     "duration": 0.119144,
     "end_time": "2023-08-05T22:45:26.006476",
     "exception": false,
     "start_time": "2023-08-05T22:45:25.887332",
     "status": "completed"
    },
    "tags": []
   },
   "outputs": [
    {
     "name": "stdout",
     "output_type": "stream",
     "text": [
      "cuda\n"
     ]
    }
   ],
   "source": [
    "device = torch.device('cuda' if torch.cuda.is_available() else 'cpu')\n",
    "print(device)"
   ]
  },
  {
   "cell_type": "code",
   "execution_count": 3,
   "id": "53771292",
   "metadata": {
    "execution": {
     "iopub.execute_input": "2023-08-05T22:45:26.017564Z",
     "iopub.status.busy": "2023-08-05T22:45:26.015765Z",
     "iopub.status.idle": "2023-08-05T22:45:26.021447Z",
     "shell.execute_reply": "2023-08-05T22:45:26.020484Z"
    },
    "papermill": {
     "duration": 0.013054,
     "end_time": "2023-08-05T22:45:26.023578",
     "exception": false,
     "start_time": "2023-08-05T22:45:26.010524",
     "status": "completed"
    },
    "tags": []
   },
   "outputs": [],
   "source": [
    "def add_file_path(text):\n",
    "  text = \"/kaggle/input/bengaliai-speech/train_mp3s/\" + f\"{text}.mp3\"\n",
    "  return text"
   ]
  },
  {
   "cell_type": "code",
   "execution_count": 4,
   "id": "3b59bb23",
   "metadata": {
    "execution": {
     "iopub.execute_input": "2023-08-05T22:45:26.031910Z",
     "iopub.status.busy": "2023-08-05T22:45:26.031637Z",
     "iopub.status.idle": "2023-08-05T22:45:31.396358Z",
     "shell.execute_reply": "2023-08-05T22:45:31.395381Z"
    },
    "papermill": {
     "duration": 5.37166,
     "end_time": "2023-08-05T22:45:31.398780",
     "exception": false,
     "start_time": "2023-08-05T22:45:26.027120",
     "status": "completed"
    },
    "tags": []
   },
   "outputs": [
    {
     "name": "stdout",
     "output_type": "stream",
     "text": [
      "963636\n"
     ]
    }
   ],
   "source": [
    "df = pd.read_csv('/kaggle/input/bengaliai-speech/train.csv')\n",
    "df = pd.DataFrame(df, columns=['id', 'sentence'])\n",
    "df['path'] = df['id'].map(lambda x: add_file_path(x)).drop(columns='id')\n",
    "print(len(df))"
   ]
  },
  {
   "cell_type": "code",
   "execution_count": 5,
   "id": "2f12b4cd",
   "metadata": {
    "execution": {
     "iopub.execute_input": "2023-08-05T22:45:31.409096Z",
     "iopub.status.busy": "2023-08-05T22:45:31.407362Z",
     "iopub.status.idle": "2023-08-05T22:45:31.414841Z",
     "shell.execute_reply": "2023-08-05T22:45:31.413979Z"
    },
    "papermill": {
     "duration": 0.014312,
     "end_time": "2023-08-05T22:45:31.416846",
     "exception": false,
     "start_time": "2023-08-05T22:45:31.402534",
     "status": "completed"
    },
    "tags": []
   },
   "outputs": [],
   "source": [
    "class AudioDataset():\n",
    "    def __init__(self, paths, sentences):\n",
    "        self.paths = paths\n",
    "        self.sentences = sentences\n",
    "    def __len__(self):\n",
    "        return len(self.paths)\n",
    "    def __getitem__(self, idx):\n",
    "        speech, sr = librosa.load(self.paths[idx], sr=16000) \n",
    "        return speech, self.sentences[idx]"
   ]
  },
  {
   "cell_type": "code",
   "execution_count": 6,
   "id": "a48cb397",
   "metadata": {
    "execution": {
     "iopub.execute_input": "2023-08-05T22:45:31.426084Z",
     "iopub.status.busy": "2023-08-05T22:45:31.425192Z",
     "iopub.status.idle": "2023-08-05T22:45:50.775497Z",
     "shell.execute_reply": "2023-08-05T22:45:50.774562Z"
    },
    "papermill": {
     "duration": 19.357501,
     "end_time": "2023-08-05T22:45:50.777855",
     "exception": false,
     "start_time": "2023-08-05T22:45:31.420354",
     "status": "completed"
    },
    "tags": []
   },
   "outputs": [
    {
     "name": "stdout",
     "output_type": "stream",
     "text": [
      "770908 192728\n"
     ]
    }
   ],
   "source": [
    "train_data = {'paths': [], 'sentences': []}\n",
    "test_data = {'paths': [], 'sentences': []}\n",
    "for i in range(0, (int)(len(df)*0.8)):\n",
    "    train_data['paths'].append(df['path'][i])\n",
    "    train_data['sentences'].append(df['sentence'][i])\n",
    "for i in range((int)(len(df)*0.8), (int)(len(df))):\n",
    "    test_data['paths'].append(df['path'][i])\n",
    "    test_data['sentences'].append(df['sentence'][i]) \n",
    "train_dataset = AudioDataset(train_data['paths'], train_data['sentences'])\n",
    "test_dataset = AudioDataset(test_data['paths'], test_data['sentences'])\n",
    "print(len(train_dataset), len(test_dataset))\n"
   ]
  },
  {
   "cell_type": "code",
   "execution_count": 7,
   "id": "8c188496",
   "metadata": {
    "execution": {
     "iopub.execute_input": "2023-08-05T22:45:50.787551Z",
     "iopub.status.busy": "2023-08-05T22:45:50.786668Z",
     "iopub.status.idle": "2023-08-05T22:45:50.792712Z",
     "shell.execute_reply": "2023-08-05T22:45:50.791711Z"
    },
    "papermill": {
     "duration": 0.013121,
     "end_time": "2023-08-05T22:45:50.794851",
     "exception": false,
     "start_time": "2023-08-05T22:45:50.781730",
     "status": "completed"
    },
    "tags": []
   },
   "outputs": [],
   "source": [
    "def collate_fn(batch):\n",
    "    # Separate speeches and sentences from the batch\n",
    "    speeches, sentences = zip(*batch)\n",
    "    \n",
    "    # Convert the speeches into PyTorch tensors\n",
    "    speeches = [torch.tensor(speech) for speech in speeches]\n",
    "    \n",
    "    # Pad speeches to the maximum length in the batch\n",
    "    speeches = torch.nn.utils.rnn.pad_sequence(speeches, batch_first=True)\n",
    "    \n",
    "    # Convert sentences into a list of strings\n",
    "    sentences = list(sentences)\n",
    "    \n",
    "    return speeches, sentences"
   ]
  },
  {
   "cell_type": "code",
   "execution_count": 8,
   "id": "92f7776f",
   "metadata": {
    "execution": {
     "iopub.execute_input": "2023-08-05T22:45:50.803451Z",
     "iopub.status.busy": "2023-08-05T22:45:50.803158Z",
     "iopub.status.idle": "2023-08-05T22:46:02.416886Z",
     "shell.execute_reply": "2023-08-05T22:46:02.415724Z"
    },
    "papermill": {
     "duration": 11.620576,
     "end_time": "2023-08-05T22:46:02.419169",
     "exception": false,
     "start_time": "2023-08-05T22:45:50.798593",
     "status": "completed"
    },
    "tags": []
   },
   "outputs": [
    {
     "name": "stderr",
     "output_type": "stream",
     "text": [
      "/opt/conda/lib/python3.10/site-packages/scipy/__init__.py:146: UserWarning: A NumPy version >=1.16.5 and <1.23.0 is required for this version of SciPy (detected version 1.23.5\n",
      "  warnings.warn(f\"A NumPy version >={np_minversion} and <{np_maxversion}\"\n"
     ]
    },
    {
     "name": "stdout",
     "output_type": "stream",
     "text": [
      "Feature batch shape: 64\n",
      "Labels batch shape: 64\n"
     ]
    }
   ],
   "source": [
    "train_dataloader = DataLoader(train_dataset, batch_size=64, shuffle=True, collate_fn=collate_fn)\n",
    "test_dataloader = DataLoader(test_dataset, batch_size=64, shuffle=True, collate_fn=collate_fn)\n",
    "\n",
    "train_features, train_labels = next(iter(train_dataloader))\n",
    "print(f\"Feature batch shape: {len(train_features)}\")\n",
    "print(f\"Labels batch shape: {len(train_labels)}\")"
   ]
  },
  {
   "cell_type": "code",
   "execution_count": 9,
   "id": "9d319ddb",
   "metadata": {
    "execution": {
     "iopub.execute_input": "2023-08-05T22:46:02.429476Z",
     "iopub.status.busy": "2023-08-05T22:46:02.428854Z",
     "iopub.status.idle": "2023-08-05T22:46:30.260440Z",
     "shell.execute_reply": "2023-08-05T22:46:30.259201Z"
    },
    "papermill": {
     "duration": 27.839036,
     "end_time": "2023-08-05T22:46:30.262839",
     "exception": false,
     "start_time": "2023-08-05T22:46:02.423803",
     "status": "completed"
    },
    "tags": []
   },
   "outputs": [
    {
     "name": "stderr",
     "output_type": "stream",
     "text": [
      "/opt/conda/lib/python3.10/site-packages/tensorflow_io/python/ops/__init__.py:98: UserWarning: unable to load libtensorflow_io_plugins.so: unable to open file: libtensorflow_io_plugins.so, from paths: ['/opt/conda/lib/python3.10/site-packages/tensorflow_io/python/ops/libtensorflow_io_plugins.so']\n",
      "caused by: ['/opt/conda/lib/python3.10/site-packages/tensorflow_io/python/ops/libtensorflow_io_plugins.so: undefined symbol: _ZN3tsl6StatusC1EN10tensorflow5error4CodeESt17basic_string_viewIcSt11char_traitsIcEENS_14SourceLocationE']\n",
      "  warnings.warn(f\"unable to load libtensorflow_io_plugins.so: {e}\")\n",
      "/opt/conda/lib/python3.10/site-packages/tensorflow_io/python/ops/__init__.py:104: UserWarning: file system plugins are not loaded: unable to open file: libtensorflow_io.so, from paths: ['/opt/conda/lib/python3.10/site-packages/tensorflow_io/python/ops/libtensorflow_io.so']\n",
      "caused by: ['/opt/conda/lib/python3.10/site-packages/tensorflow_io/python/ops/libtensorflow_io.so: undefined symbol: _ZTVN10tensorflow13GcsFileSystemE']\n",
      "  warnings.warn(f\"file system plugins are not loaded: {e}\")\n",
      "/opt/conda/lib/python3.10/site-packages/transformers/configuration_utils.py:380: UserWarning: Passing `gradient_checkpointing` to a config initialization is deprecated and will be removed in v5 Transformers. Using `model.gradient_checkpointing_enable()` instead, or if you are using the `Trainer` API, pass `gradient_checkpointing=True` in your `TrainingArguments`.\n",
      "  warnings.warn(\n",
      "Some weights of the model checkpoint at /kaggle/input/bengali-model/bengali/ were not used when initializing Wav2Vec2Model: ['lm_head.bias', 'lm_head.weight']\n",
      "- This IS expected if you are initializing Wav2Vec2Model from the checkpoint of a model trained on another task or with another architecture (e.g. initializing a BertForSequenceClassification model from a BertForPreTraining model).\n",
      "- This IS NOT expected if you are initializing Wav2Vec2Model from the checkpoint of a model that you expect to be exactly identical (initializing a BertForSequenceClassification model from a BertForSequenceClassification model).\n",
      "Special tokens have been added in the vocabulary, make sure the associated word embeddings are fine-tuned or trained.\n",
      "Special tokens have been added in the vocabulary, make sure the associated word embeddings are fine-tuned or trained.\n"
     ]
    }
   ],
   "source": [
    "from transformers import AutoTokenizer, AutoModel, AutoFeatureExtractor, AutoProcessor, pipeline\n",
    "\n",
    "class CFG:\n",
    "    model = AutoModel.from_pretrained('/kaggle/input/bengali-model/bengali/')\n",
    "    tokenizer = AutoTokenizer.from_pretrained('/kaggle/input/bengali-model/bengali/')\n",
    "    feature_extractor = AutoFeatureExtractor.from_pretrained('/kaggle/input/bengali-model/bengali/')\n",
    "    processor = AutoProcessor.from_pretrained('/kaggle/input/bengali-model/bengali/')"
   ]
  },
  {
   "cell_type": "code",
   "execution_count": 10,
   "id": "82a35865",
   "metadata": {
    "execution": {
     "iopub.execute_input": "2023-08-05T22:46:30.273384Z",
     "iopub.status.busy": "2023-08-05T22:46:30.273049Z",
     "iopub.status.idle": "2023-08-05T22:46:30.280448Z",
     "shell.execute_reply": "2023-08-05T22:46:30.279459Z"
    },
    "papermill": {
     "duration": 0.014796,
     "end_time": "2023-08-05T22:46:30.282411",
     "exception": false,
     "start_time": "2023-08-05T22:46:30.267615",
     "status": "completed"
    },
    "tags": []
   },
   "outputs": [],
   "source": [
    "class GreedyCTCDecoder(torch.nn.Module):\n",
    "    def __init__(self, labels, blank=0):\n",
    "        super().__init__()\n",
    "        self.labels = labels\n",
    "        self.blank = blank\n",
    "\n",
    "    def forward(self, emission: torch.Tensor) -> str:\n",
    "        \"\"\"Given a sequence emission over labels, get the best path string\n",
    "        Args:\n",
    "          emission (Tensor): Logit tensors. Shape `[num_seq, num_label]`.\n",
    "\n",
    "        Returns:\n",
    "          str: The resulting transcript\n",
    "        \"\"\"\n",
    "        indices = torch.argmax(emission, dim=-1)  # [num_seq,]\n",
    "        indices = torch.unique_consecutive(indices, dim=-1)\n",
    "        indices = [i for i in indices if i != self.blank]\n",
    "        return \"\".join([self.labels[i] for i in indices])"
   ]
  }
 ],
 "metadata": {
  "kernelspec": {
   "display_name": "Python 3",
   "language": "python",
   "name": "python3"
  },
  "language_info": {
   "codemirror_mode": {
    "name": "ipython",
    "version": 3
   },
   "file_extension": ".py",
   "mimetype": "text/x-python",
   "name": "python",
   "nbconvert_exporter": "python",
   "pygments_lexer": "ipython3",
   "version": "3.10.12"
  },
  "papermill": {
   "default_parameters": {},
   "duration": 83.016381,
   "end_time": "2023-08-05T22:46:33.324656",
   "environment_variables": {},
   "exception": null,
   "input_path": "__notebook__.ipynb",
   "output_path": "__notebook__.ipynb",
   "parameters": {},
   "start_time": "2023-08-05T22:45:10.308275",
   "version": "2.4.0"
  }
 },
 "nbformat": 4,
 "nbformat_minor": 5
}
